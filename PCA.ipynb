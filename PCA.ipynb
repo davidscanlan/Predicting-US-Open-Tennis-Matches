{
 "cells": [
  {
   "cell_type": "markdown",
   "metadata": {
    "colab_type": "text",
    "id": "m3orDJOxd7vn"
   },
   "source": [
    "## Import Packages"
   ]
  },
  {
   "cell_type": "code",
   "execution_count": 0,
   "metadata": {
    "colab": {},
    "colab_type": "code",
    "id": "L-2KmknbcL8f"
   },
   "outputs": [],
   "source": [
    "import numpy as np\n",
    "import pandas as pd\n",
    "from matplotlib import pyplot as plt\n",
    "\n",
    "from sklearn.model_selection import train_test_split\n",
    "from sklearn.preprocessing import StandardScaler\n",
    "from sklearn.decomposition import PCA\n",
    "from sklearn.linear_model import LogisticRegression\n",
    "from sklearn.preprocessing import LabelEncoder\n",
    "import seaborn as sns"
   ]
  },
  {
   "cell_type": "markdown",
   "metadata": {
    "colab_type": "text",
    "id": "HxqqDA18PnE9"
   },
   "source": [
    "## Import Data"
   ]
  },
  {
   "cell_type": "code",
   "execution_count": 0,
   "metadata": {
    "colab": {},
    "colab_type": "code",
    "id": "XoGtE8HpFpsM"
   },
   "outputs": [],
   "source": [
    "from google.colab import drive\n",
    "drive.mount('/content/drive')"
   ]
  },
  {
   "cell_type": "code",
   "execution_count": 0,
   "metadata": {
    "colab": {},
    "colab_type": "code",
    "id": "fN7Iy203GuHz"
   },
   "outputs": [],
   "source": [
    "data = pd.read_csv('/content/drive/My Drive/242Project/Data/USOpen_matches_with_feature.csv')"
   ]
  },
  {
   "cell_type": "code",
   "execution_count": 0,
   "metadata": {
    "colab": {},
    "colab_type": "code",
    "id": "-1ObqHROifCt"
   },
   "outputs": [],
   "source": [
    "data.head()"
   ]
  },
  {
   "cell_type": "markdown",
   "metadata": {
    "colab_type": "text",
    "id": "a9bATRPfHuA0"
   },
   "source": [
    "## Read Data"
   ]
  },
  {
   "cell_type": "code",
   "execution_count": 0,
   "metadata": {
    "colab": {},
    "colab_type": "code",
    "id": "-BWPr7zXHvBX"
   },
   "outputs": [],
   "source": [
    "data.player_0_rank = data.player_0_rank.astype(int)\n",
    "data.player_1_rank = data.player_1_rank.astype(int)"
   ]
  },
  {
   "cell_type": "code",
   "execution_count": 0,
   "metadata": {
    "colab": {},
    "colab_type": "code",
    "id": "y8VjcYA8ICUH"
   },
   "outputs": [],
   "source": [
    "label_encoder = LabelEncoder()\n",
    "list0 = np.unique(np.concatenate((data['player_0'].unique(),data['player_1'].unique())))\n",
    "label_encoder.fit(list0) \n",
    "data['player_0']=label_encoder.transform(data['player_0']) \n",
    "data['player_1']=label_encoder.transform(data['player_1'])"
   ]
  },
  {
   "cell_type": "code",
   "execution_count": 0,
   "metadata": {
    "colab": {},
    "colab_type": "code",
    "id": "dfuBFUM9IE4m"
   },
   "outputs": [],
   "source": [
    "data.head()"
   ]
  },
  {
   "cell_type": "code",
   "execution_count": 0,
   "metadata": {
    "colab": {},
    "colab_type": "code",
    "id": "0wMkB9z_IILs"
   },
   "outputs": [],
   "source": [
    "data.info()"
   ]
  },
  {
   "cell_type": "code",
   "execution_count": 0,
   "metadata": {
    "colab": {},
    "colab_type": "code",
    "id": "_uuoOgiHqmUD"
   },
   "outputs": [],
   "source": [
    "data.columns"
   ]
  },
  {
   "cell_type": "markdown",
   "metadata": {
    "colab_type": "text",
    "id": "d9C2eTvaILuM"
   },
   "source": [
    "## Selecting the columns"
   ]
  },
  {
   "cell_type": "code",
   "execution_count": 0,
   "metadata": {
    "colab": {},
    "colab_type": "code",
    "id": "wU-rqFoCIQK8"
   },
   "outputs": [],
   "source": [
    "selected_columns = [ 'diff_match_win_percent',\n",
    "       'diff_games_win_percent', 'diff_5_set_match_win_percent',\n",
    "       'diff_close_sets_percent', 'diff_match_win_percent_hard',\n",
    "       'diff_games_win_percent_hard', 'diff_5_set_match_win_percent_hard',\n",
    "       'diff_close_sets_percent_hard', 'diff_match_win_percent_52',\n",
    "       'diff_games_win_percent_52', 'diff_5_set_match_win_percent_52',\n",
    "       'diff_close_sets_percent_52', 'diff_match_win_percent_hard_60',\n",
    "       'diff_games_win_percent_hard_60',\n",
    "       'diff_5_set_match_win_percent_hard_60',\n",
    "       'diff_close_sets_percent_hard_60', 'diff_match_win_percent_hh',\n",
    "       'diff_games_win_percent_hh', 'diff_match_win_percent_hard_hh',\n",
    "       'diff_games_win_percent_hard_hh']\n",
    "print(len(selected_columns))"
   ]
  },
  {
   "cell_type": "markdown",
   "metadata": {
    "colab_type": "text",
    "id": "9OxowgViIWVg"
   },
   "source": [
    "## Split Data"
   ]
  },
  {
   "cell_type": "code",
   "execution_count": 0,
   "metadata": {
    "colab": {},
    "colab_type": "code",
    "id": "hyZtbdZXIX71"
   },
   "outputs": [],
   "source": [
    "# test_size: what proportion of original data is used for test set\n",
    "train_set, test_set, train_target, test_target = train_test_split(data[selected_columns], data.outcome, test_size=0.2, random_state=0)"
   ]
  },
  {
   "cell_type": "markdown",
   "metadata": {
    "colab_type": "text",
    "id": "QWCQXd9mIbE2"
   },
   "source": [
    "## Standardize Data"
   ]
  },
  {
   "cell_type": "code",
   "execution_count": 0,
   "metadata": {
    "colab": {},
    "colab_type": "code",
    "id": "iS56cWqnIc7D"
   },
   "outputs": [],
   "source": [
    "scaler = StandardScaler()\n",
    "# Fit on training set only.\n",
    "scaler.fit(train_set)\n",
    "# Apply transform to both the training set and the test set.\n",
    "train_set = scaler.transform(train_set)\n",
    "test_set = scaler.transform(test_set)"
   ]
  },
  {
   "cell_type": "markdown",
   "metadata": {
    "colab_type": "text",
    "id": "--NLxetYIfgz"
   },
   "source": [
    "## Apply PCA"
   ]
  },
  {
   "cell_type": "code",
   "execution_count": 0,
   "metadata": {
    "colab": {
     "base_uri": "https://localhost:8080/",
     "height": 51
    },
    "colab_type": "code",
    "id": "tyfCnZjyIhZu",
    "outputId": "7712ddbf-7cb6-46b7-c58d-6fa980f31cfa"
   },
   "outputs": [
    {
     "data": {
      "text/plain": [
       "PCA(copy=True, iterated_power='auto', n_components=None, random_state=None,\n",
       "    svd_solver='auto', tol=0.0, whiten=False)"
      ]
     },
     "execution_count": 15,
     "metadata": {
      "tags": []
     },
     "output_type": "execute_result"
    }
   ],
   "source": [
    "# Make an instance of the Model\n",
    "pca = PCA()\n",
    "pca.fit(train_set)"
   ]
  },
  {
   "cell_type": "code",
   "execution_count": 0,
   "metadata": {
    "colab": {
     "base_uri": "https://localhost:8080/",
     "height": 102
    },
    "colab_type": "code",
    "id": "UglF5197AWhN",
    "outputId": "bb4ed31f-8d98-4577-e564-4026d6e762cb"
   },
   "outputs": [
    {
     "data": {
      "text/plain": [
       "array([4.80495386e-01, 1.76813743e-01, 8.95178438e-02, 5.15424916e-02,\n",
       "       4.58591188e-02, 3.47494875e-02, 2.13593704e-02, 2.01510621e-02,\n",
       "       1.88282620e-02, 1.78855966e-02, 1.22948018e-02, 8.83315753e-03,\n",
       "       6.61041957e-03, 4.72132282e-03, 4.31717301e-03, 3.22646389e-03,\n",
       "       1.93316792e-03, 8.61132167e-04, 2.30197534e-32, 6.28816479e-34])"
      ]
     },
     "execution_count": 16,
     "metadata": {
      "tags": []
     },
     "output_type": "execute_result"
    }
   ],
   "source": [
    "pca.explained_variance_ratio_"
   ]
  },
  {
   "cell_type": "code",
   "execution_count": 0,
   "metadata": {
    "colab": {
     "base_uri": "https://localhost:8080/",
     "height": 404
    },
    "colab_type": "code",
    "id": "-k9y8neYAl0O",
    "outputId": "a46c6d18-d713-4210-c962-5ca9dff10e85"
   },
   "outputs": [
    {
     "data": {
      "image/png": "[encoded data removed]",
      "text/plain": [
       "<Figure size 720x432 with 1 Axes>"
      ]
     },
     "metadata": {
      "needs_background": "light",
      "tags": []
     },
     "output_type": "display_data"
    }
   ],
   "source": [
    "plt.figure(figsize=(10,6))\n",
    "sns.barplot([i for i in range(20)],pca.explained_variance_ratio_)\n",
    "plt.title('Explained Variance Ratio depending on PCs')\n",
    "plt.ylabel('Explained Variance Ratio')\n",
    "plt.xlabel('Principal Components')\n",
    "plt.show()"
   ]
  },
  {
   "cell_type": "code",
   "execution_count": 0,
   "metadata": {
    "colab": {},
    "colab_type": "code",
    "id": "qu5CLHfxAT8X"
   },
   "outputs": [],
   "source": [
    "pca = PCA(3)\n",
    "pca.fit(train_set)\n",
    "train_set = pca.transform(train_set)\n",
    "test_set = pca.transform(test_set)"
   ]
  },
  {
   "cell_type": "code",
   "execution_count": 0,
   "metadata": {
    "colab": {
     "base_uri": "https://localhost:8080/",
     "height": 68
    },
    "colab_type": "code",
    "id": "_6Ix14xvoyRj",
    "outputId": "d2e0655d-2e1f-4c5a-c8cf-69364400a9c6"
   },
   "outputs": [
    {
     "name": "stdout",
     "output_type": "stream",
     "text": [
      "Number of selected components: 3\n",
      "[0.48049539 0.17681374 0.08951784]\n",
      "Explained variance ratio: [0.48049539 0.17681374 0.08951784]\n"
     ]
    }
   ],
   "source": [
    "print('Number of selected components:', pca.n_components_)\n",
    "print(pca.explained_variance_ratio_)\n",
    "print('Explained variance ratio:',pca.explained_variance_ratio_)"
   ]
  },
  {
   "cell_type": "markdown",
   "metadata": {
    "colab_type": "text",
    "id": "mSy1g2QhIlGM"
   },
   "source": [
    "## Apply Logistic Regression to the transformed data"
   ]
  },
  {
   "cell_type": "code",
   "execution_count": 0,
   "metadata": {
    "colab": {
     "base_uri": "https://localhost:8080/",
     "height": 34
    },
    "colab_type": "code",
    "id": "o31otdp9Im4x",
    "outputId": "49e95948-edae-41ac-ef5c-b719e1b4deb9"
   },
   "outputs": [
    {
     "data": {
      "text/plain": [
       "0.7890295358649789"
      ]
     },
     "execution_count": 23,
     "metadata": {
      "tags": []
     },
     "output_type": "execute_result"
    }
   ],
   "source": [
    "logisticRegr = LogisticRegression(solver = 'liblinear')\n",
    "logisticRegr.fit(train_set, train_target)\n",
    "predictions = logisticRegr.predict(test_set)\n",
    "test_target = np.array(test_target)\n",
    "(predictions==test_target).sum()/len(predictions)"
   ]
  },
  {
   "cell_type": "markdown",
   "metadata": {
    "colab_type": "text",
    "id": "3kwp4P4X0Btv"
   },
   "source": [
    "# Tournament Test"
   ]
  },
  {
   "cell_type": "markdown",
   "metadata": {
    "colab_type": "text",
    "id": "9QcZImeO0Nd5"
   },
   "source": [
    "## Import Data"
   ]
  },
  {
   "cell_type": "code",
   "execution_count": 0,
   "metadata": {
    "colab": {},
    "colab_type": "code",
    "id": "OMWF8at20Lhi"
   },
   "outputs": [],
   "source": [
    "tournament_test = pd.read_csv('/content/drive/My Drive/242Project/Data/tournament_test.csv')"
   ]
  },
  {
   "cell_type": "code",
   "execution_count": 0,
   "metadata": {
    "colab": {
     "base_uri": "https://localhost:8080/",
     "height": 309
    },
    "colab_type": "code",
    "id": "OYqxi-TM0aFo",
    "outputId": "69c4781b-e1b5-4646-e854-4f661c1ff7c3"
   },
   "outputs": [
    {
     "data": {
      "text/html": [
       "<div>\n",
       "<style scoped>\n",
       "    .dataframe tbody tr th:only-of-type {\n",
       "        vertical-align: middle;\n",
       "    }\n",
       "\n",
       "    .dataframe tbody tr th {\n",
       "        vertical-align: top;\n",
       "    }\n",
       "\n",
       "    .dataframe thead th {\n",
       "        text-align: right;\n",
       "    }\n",
       "</style>\n",
       "<table border=\"1\" class=\"dataframe\">\n",
       "  <thead>\n",
       "    <tr style=\"text-align: right;\">\n",
       "      <th></th>\n",
       "      <th>Tournament</th>\n",
       "      <th>Date</th>\n",
       "      <th>Surface</th>\n",
       "      <th>Round</th>\n",
       "      <th>player_0</th>\n",
       "      <th>player_0_rank</th>\n",
       "      <th>player_0_odd</th>\n",
       "      <th>player_1</th>\n",
       "      <th>player_1_rank</th>\n",
       "      <th>player_1_odd</th>\n",
       "      <th>outcome</th>\n",
       "      <th>player_0_match_win_percent</th>\n",
       "      <th>player_1_match_win_percent</th>\n",
       "      <th>player_0_games_win_percent</th>\n",
       "      <th>player_1_games_win_percent</th>\n",
       "      <th>player_0_5_set_match_win_percent</th>\n",
       "      <th>player_1_5_set_match_win_percent</th>\n",
       "      <th>player_0_close_sets_percent</th>\n",
       "      <th>player_1_close_sets_percent</th>\n",
       "      <th>player_0_match_win_percent_hard</th>\n",
       "      <th>player_1_match_win_percent_hard</th>\n",
       "      <th>player_0_games_win_percent_hard</th>\n",
       "      <th>player_1_games_win_percent_hard</th>\n",
       "      <th>player_0_5_set_match_win_percent_hard</th>\n",
       "      <th>player_1_5_set_match_win_percent_hard</th>\n",
       "      <th>player_0_close_sets_percent_hard</th>\n",
       "      <th>player_1_close_sets_percent_hard</th>\n",
       "      <th>player_0_match_win_percent_52</th>\n",
       "      <th>player_1_match_win_percent_52</th>\n",
       "      <th>player_0_games_win_percent_52</th>\n",
       "      <th>player_1_games_win_percent_52</th>\n",
       "      <th>player_0_5_set_match_win_percent_52</th>\n",
       "      <th>player_1_5_set_match_win_percent_52</th>\n",
       "      <th>player_0_close_sets_percent_52</th>\n",
       "      <th>player_1_close_sets_percent_52</th>\n",
       "      <th>player_0_match_win_percent_hard_60</th>\n",
       "      <th>player_1_match_win_percent_hard_60</th>\n",
       "      <th>player_0_games_win_percent_hard_60</th>\n",
       "      <th>player_1_games_win_percent_hard_60</th>\n",
       "      <th>player_0_5_set_match_win_percent_hard_60</th>\n",
       "      <th>player_1_5_set_match_win_percent_hard_60</th>\n",
       "      <th>player_0_close_sets_percent_hard_60</th>\n",
       "      <th>player_1_close_sets_percent_hard_60</th>\n",
       "      <th>player_0_match_win_percent_hh</th>\n",
       "      <th>player_1_match_win_percent_hh</th>\n",
       "      <th>player_0_games_win_percent_hh</th>\n",
       "      <th>player_1_games_win_percent_hh</th>\n",
       "      <th>player_0_match_win_percent_hard_hh</th>\n",
       "      <th>player_1_match_win_percent_hard_hh</th>\n",
       "      <th>player_0_games_win_percent_hard_hh</th>\n",
       "      <th>player_1_games_win_percent_hard_hh</th>\n",
       "      <th>diff_rank</th>\n",
       "      <th>diff_match_win_percent</th>\n",
       "      <th>diff_games_win_percent</th>\n",
       "      <th>diff_5_set_match_win_percent</th>\n",
       "      <th>diff_close_sets_percent</th>\n",
       "      <th>diff_match_win_percent_hard</th>\n",
       "      <th>diff_games_win_percent_hard</th>\n",
       "      <th>diff_5_set_match_win_percent_hard</th>\n",
       "      <th>diff_close_sets_percent_hard</th>\n",
       "      <th>diff_match_win_percent_52</th>\n",
       "      <th>diff_games_win_percent_52</th>\n",
       "      <th>diff_5_set_match_win_percent_52</th>\n",
       "      <th>diff_close_sets_percent_52</th>\n",
       "      <th>diff_match_win_percent_hard_60</th>\n",
       "      <th>diff_games_win_percent_hard_60</th>\n",
       "      <th>diff_5_set_match_win_percent_hard_60</th>\n",
       "      <th>diff_close_sets_percent_hard_60</th>\n",
       "      <th>diff_match_win_percent_hh</th>\n",
       "      <th>diff_games_win_percent_hh</th>\n",
       "      <th>diff_match_win_percent_hard_hh</th>\n",
       "      <th>diff_games_win_percent_hard_hh</th>\n",
       "    </tr>\n",
       "  </thead>\n",
       "  <tbody>\n",
       "    <tr>\n",
       "      <th>0</th>\n",
       "      <td>US Open</td>\n",
       "      <td>2020</td>\n",
       "      <td>Hard</td>\n",
       "      <td>4th Round</td>\n",
       "      <td>Djokovic N.</td>\n",
       "      <td>1</td>\n",
       "      <td>NaN</td>\n",
       "      <td>Shapovalov D.</td>\n",
       "      <td>16</td>\n",
       "      <td>NaN</td>\n",
       "      <td>NaN</td>\n",
       "      <td>0.836269</td>\n",
       "      <td>0.516949</td>\n",
       "      <td>0.593497</td>\n",
       "      <td>0.503990</td>\n",
       "      <td>0.875817</td>\n",
       "      <td>0.526316</td>\n",
       "      <td>0.618762</td>\n",
       "      <td>0.517857</td>\n",
       "      <td>0.845395</td>\n",
       "      <td>0.569767</td>\n",
       "      <td>0.598515</td>\n",
       "      <td>0.516674</td>\n",
       "      <td>0.880795</td>\n",
       "      <td>0.666667</td>\n",
       "      <td>0.627469</td>\n",
       "      <td>0.539007</td>\n",
       "      <td>0.861538</td>\n",
       "      <td>0.509434</td>\n",
       "      <td>0.607377</td>\n",
       "      <td>0.505335</td>\n",
       "      <td>0.961538</td>\n",
       "      <td>0.571429</td>\n",
       "      <td>0.619433</td>\n",
       "      <td>0.485549</td>\n",
       "      <td>0.862745</td>\n",
       "      <td>0.596154</td>\n",
       "      <td>0.602987</td>\n",
       "      <td>0.523019</td>\n",
       "      <td>1.000000</td>\n",
       "      <td>0.714286</td>\n",
       "      <td>0.617486</td>\n",
       "      <td>0.529412</td>\n",
       "      <td>1.0</td>\n",
       "      <td>0.0</td>\n",
       "      <td>0.720000</td>\n",
       "      <td>0.000000</td>\n",
       "      <td>1.0</td>\n",
       "      <td>0.0</td>\n",
       "      <td>0.720000</td>\n",
       "      <td>0.000000</td>\n",
       "      <td>-15</td>\n",
       "      <td>0.319320</td>\n",
       "      <td>0.089507</td>\n",
       "      <td>0.349501</td>\n",
       "      <td>0.100905</td>\n",
       "      <td>0.275627</td>\n",
       "      <td>0.081840</td>\n",
       "      <td>0.191542</td>\n",
       "      <td>0.088462</td>\n",
       "      <td>0.352104</td>\n",
       "      <td>0.102041</td>\n",
       "      <td>0.390110</td>\n",
       "      <td>0.133884</td>\n",
       "      <td>0.266591</td>\n",
       "      <td>0.079969</td>\n",
       "      <td>0.285714</td>\n",
       "      <td>0.088075</td>\n",
       "      <td>1.0</td>\n",
       "      <td>0.720000</td>\n",
       "      <td>1.0</td>\n",
       "      <td>0.720000</td>\n",
       "    </tr>\n",
       "    <tr>\n",
       "      <th>1</th>\n",
       "      <td>US Open</td>\n",
       "      <td>2020</td>\n",
       "      <td>Hard</td>\n",
       "      <td>4th Round</td>\n",
       "      <td>Nadal R.</td>\n",
       "      <td>2</td>\n",
       "      <td>NaN</td>\n",
       "      <td>Khachanov K.</td>\n",
       "      <td>15</td>\n",
       "      <td>NaN</td>\n",
       "      <td>NaN</td>\n",
       "      <td>0.848780</td>\n",
       "      <td>0.560000</td>\n",
       "      <td>0.601936</td>\n",
       "      <td>0.516809</td>\n",
       "      <td>0.891156</td>\n",
       "      <td>0.642857</td>\n",
       "      <td>0.618892</td>\n",
       "      <td>0.545455</td>\n",
       "      <td>0.792233</td>\n",
       "      <td>0.531250</td>\n",
       "      <td>0.577363</td>\n",
       "      <td>0.517157</td>\n",
       "      <td>0.858209</td>\n",
       "      <td>0.538462</td>\n",
       "      <td>0.601213</td>\n",
       "      <td>0.535032</td>\n",
       "      <td>0.882353</td>\n",
       "      <td>0.614035</td>\n",
       "      <td>0.644975</td>\n",
       "      <td>0.536184</td>\n",
       "      <td>0.916667</td>\n",
       "      <td>0.714286</td>\n",
       "      <td>0.597015</td>\n",
       "      <td>0.567839</td>\n",
       "      <td>0.933333</td>\n",
       "      <td>0.641509</td>\n",
       "      <td>0.611602</td>\n",
       "      <td>0.543284</td>\n",
       "      <td>0.933333</td>\n",
       "      <td>0.625000</td>\n",
       "      <td>0.633333</td>\n",
       "      <td>0.582857</td>\n",
       "      <td>0.0</td>\n",
       "      <td>1.0</td>\n",
       "      <td>0.000000</td>\n",
       "      <td>0.632653</td>\n",
       "      <td>0.0</td>\n",
       "      <td>1.0</td>\n",
       "      <td>0.000000</td>\n",
       "      <td>0.632653</td>\n",
       "      <td>-13</td>\n",
       "      <td>0.288780</td>\n",
       "      <td>0.085127</td>\n",
       "      <td>0.248299</td>\n",
       "      <td>0.073437</td>\n",
       "      <td>0.260983</td>\n",
       "      <td>0.060206</td>\n",
       "      <td>0.203474</td>\n",
       "      <td>0.066182</td>\n",
       "      <td>0.268318</td>\n",
       "      <td>0.108791</td>\n",
       "      <td>0.202381</td>\n",
       "      <td>0.029176</td>\n",
       "      <td>0.291824</td>\n",
       "      <td>0.068318</td>\n",
       "      <td>0.308333</td>\n",
       "      <td>0.050476</td>\n",
       "      <td>-1.0</td>\n",
       "      <td>-0.632653</td>\n",
       "      <td>-1.0</td>\n",
       "      <td>-0.632653</td>\n",
       "    </tr>\n",
       "    <tr>\n",
       "      <th>2</th>\n",
       "      <td>US Open</td>\n",
       "      <td>2020</td>\n",
       "      <td>Hard</td>\n",
       "      <td>4th Round</td>\n",
       "      <td>Thiem D.</td>\n",
       "      <td>3</td>\n",
       "      <td>NaN</td>\n",
       "      <td>Rublev A.</td>\n",
       "      <td>14</td>\n",
       "      <td>NaN</td>\n",
       "      <td>NaN</td>\n",
       "      <td>0.633758</td>\n",
       "      <td>0.488189</td>\n",
       "      <td>0.528693</td>\n",
       "      <td>0.494747</td>\n",
       "      <td>0.730159</td>\n",
       "      <td>0.550000</td>\n",
       "      <td>0.556180</td>\n",
       "      <td>0.482185</td>\n",
       "      <td>0.556291</td>\n",
       "      <td>0.477778</td>\n",
       "      <td>0.514842</td>\n",
       "      <td>0.492027</td>\n",
       "      <td>0.741935</td>\n",
       "      <td>0.600000</td>\n",
       "      <td>0.545631</td>\n",
       "      <td>0.450000</td>\n",
       "      <td>0.688525</td>\n",
       "      <td>0.560976</td>\n",
       "      <td>0.544109</td>\n",
       "      <td>0.511811</td>\n",
       "      <td>0.866667</td>\n",
       "      <td>0.600000</td>\n",
       "      <td>0.600939</td>\n",
       "      <td>0.496241</td>\n",
       "      <td>0.611111</td>\n",
       "      <td>0.512821</td>\n",
       "      <td>0.534156</td>\n",
       "      <td>0.506997</td>\n",
       "      <td>0.833333</td>\n",
       "      <td>0.500000</td>\n",
       "      <td>0.606061</td>\n",
       "      <td>0.480000</td>\n",
       "      <td>0.3</td>\n",
       "      <td>0.5</td>\n",
       "      <td>0.400000</td>\n",
       "      <td>0.475000</td>\n",
       "      <td>0.3</td>\n",
       "      <td>0.5</td>\n",
       "      <td>0.400000</td>\n",
       "      <td>0.475000</td>\n",
       "      <td>-11</td>\n",
       "      <td>0.145569</td>\n",
       "      <td>0.033946</td>\n",
       "      <td>0.180159</td>\n",
       "      <td>0.073995</td>\n",
       "      <td>0.078514</td>\n",
       "      <td>0.022814</td>\n",
       "      <td>0.284393</td>\n",
       "      <td>0.095631</td>\n",
       "      <td>0.127549</td>\n",
       "      <td>0.032298</td>\n",
       "      <td>0.266667</td>\n",
       "      <td>0.104698</td>\n",
       "      <td>0.098291</td>\n",
       "      <td>0.027159</td>\n",
       "      <td>0.333333</td>\n",
       "      <td>0.126061</td>\n",
       "      <td>-0.2</td>\n",
       "      <td>-0.075000</td>\n",
       "      <td>-0.2</td>\n",
       "      <td>-0.075000</td>\n",
       "    </tr>\n",
       "    <tr>\n",
       "      <th>3</th>\n",
       "      <td>US Open</td>\n",
       "      <td>2020</td>\n",
       "      <td>Hard</td>\n",
       "      <td>4th Round</td>\n",
       "      <td>Federer R.</td>\n",
       "      <td>4</td>\n",
       "      <td>NaN</td>\n",
       "      <td>Schwartzman D.</td>\n",
       "      <td>13</td>\n",
       "      <td>NaN</td>\n",
       "      <td>NaN</td>\n",
       "      <td>0.855967</td>\n",
       "      <td>0.537190</td>\n",
       "      <td>0.591208</td>\n",
       "      <td>0.516533</td>\n",
       "      <td>0.877676</td>\n",
       "      <td>0.583333</td>\n",
       "      <td>0.637815</td>\n",
       "      <td>0.491484</td>\n",
       "      <td>0.860353</td>\n",
       "      <td>0.563636</td>\n",
       "      <td>0.593505</td>\n",
       "      <td>0.524062</td>\n",
       "      <td>0.884393</td>\n",
       "      <td>0.640000</td>\n",
       "      <td>0.643341</td>\n",
       "      <td>0.507895</td>\n",
       "      <td>0.792453</td>\n",
       "      <td>0.620690</td>\n",
       "      <td>0.566643</td>\n",
       "      <td>0.530303</td>\n",
       "      <td>0.769231</td>\n",
       "      <td>0.727273</td>\n",
       "      <td>0.654054</td>\n",
       "      <td>0.515306</td>\n",
       "      <td>0.820000</td>\n",
       "      <td>0.605263</td>\n",
       "      <td>0.577039</td>\n",
       "      <td>0.539501</td>\n",
       "      <td>0.857143</td>\n",
       "      <td>0.777778</td>\n",
       "      <td>0.646067</td>\n",
       "      <td>0.507576</td>\n",
       "      <td>0.0</td>\n",
       "      <td>0.5</td>\n",
       "      <td>0.470588</td>\n",
       "      <td>0.580645</td>\n",
       "      <td>0.0</td>\n",
       "      <td>0.5</td>\n",
       "      <td>0.470588</td>\n",
       "      <td>0.580645</td>\n",
       "      <td>-9</td>\n",
       "      <td>0.318777</td>\n",
       "      <td>0.074675</td>\n",
       "      <td>0.294343</td>\n",
       "      <td>0.146331</td>\n",
       "      <td>0.296717</td>\n",
       "      <td>0.069442</td>\n",
       "      <td>-0.094545</td>\n",
       "      <td>0.135446</td>\n",
       "      <td>0.171763</td>\n",
       "      <td>0.036340</td>\n",
       "      <td>0.041958</td>\n",
       "      <td>0.138748</td>\n",
       "      <td>0.214737</td>\n",
       "      <td>0.037538</td>\n",
       "      <td>0.079365</td>\n",
       "      <td>0.138492</td>\n",
       "      <td>-0.5</td>\n",
       "      <td>-0.110057</td>\n",
       "      <td>-0.5</td>\n",
       "      <td>-0.110057</td>\n",
       "    </tr>\n",
       "    <tr>\n",
       "      <th>4</th>\n",
       "      <td>US Open</td>\n",
       "      <td>2020</td>\n",
       "      <td>Hard</td>\n",
       "      <td>4th Round</td>\n",
       "      <td>Medvedev D.</td>\n",
       "      <td>5</td>\n",
       "      <td>NaN</td>\n",
       "      <td>Bautista Agut R.</td>\n",
       "      <td>12</td>\n",
       "      <td>NaN</td>\n",
       "      <td>NaN</td>\n",
       "      <td>0.606061</td>\n",
       "      <td>0.672619</td>\n",
       "      <td>0.520866</td>\n",
       "      <td>0.540893</td>\n",
       "      <td>0.529412</td>\n",
       "      <td>0.676471</td>\n",
       "      <td>0.527907</td>\n",
       "      <td>0.583916</td>\n",
       "      <td>0.656566</td>\n",
       "      <td>0.685714</td>\n",
       "      <td>0.528891</td>\n",
       "      <td>0.548220</td>\n",
       "      <td>0.545455</td>\n",
       "      <td>0.647059</td>\n",
       "      <td>0.539185</td>\n",
       "      <td>0.601719</td>\n",
       "      <td>0.666667</td>\n",
       "      <td>0.716981</td>\n",
       "      <td>0.540426</td>\n",
       "      <td>0.540809</td>\n",
       "      <td>0.636364</td>\n",
       "      <td>0.666667</td>\n",
       "      <td>0.532751</td>\n",
       "      <td>0.610169</td>\n",
       "      <td>0.742424</td>\n",
       "      <td>0.714286</td>\n",
       "      <td>0.548428</td>\n",
       "      <td>0.540984</td>\n",
       "      <td>0.666667</td>\n",
       "      <td>0.571429</td>\n",
       "      <td>0.569444</td>\n",
       "      <td>0.600000</td>\n",
       "      <td>1.0</td>\n",
       "      <td>1.0</td>\n",
       "      <td>0.520000</td>\n",
       "      <td>0.500000</td>\n",
       "      <td>1.0</td>\n",
       "      <td>1.0</td>\n",
       "      <td>0.520000</td>\n",
       "      <td>0.500000</td>\n",
       "      <td>-7</td>\n",
       "      <td>-0.066558</td>\n",
       "      <td>-0.020028</td>\n",
       "      <td>-0.147059</td>\n",
       "      <td>-0.056009</td>\n",
       "      <td>-0.029149</td>\n",
       "      <td>-0.019329</td>\n",
       "      <td>0.019608</td>\n",
       "      <td>-0.062534</td>\n",
       "      <td>-0.050314</td>\n",
       "      <td>-0.000384</td>\n",
       "      <td>-0.030303</td>\n",
       "      <td>-0.077418</td>\n",
       "      <td>0.028139</td>\n",
       "      <td>0.007444</td>\n",
       "      <td>0.095238</td>\n",
       "      <td>-0.030556</td>\n",
       "      <td>0.0</td>\n",
       "      <td>0.020000</td>\n",
       "      <td>0.0</td>\n",
       "      <td>0.020000</td>\n",
       "    </tr>\n",
       "  </tbody>\n",
       "</table>\n",
       "</div>"
      ],
      "text/plain": [
       "  Tournament  ...  diff_games_win_percent_hard_hh\n",
       "0    US Open  ...                        0.720000\n",
       "1    US Open  ...                       -0.632653\n",
       "2    US Open  ...                       -0.075000\n",
       "3    US Open  ...                       -0.110057\n",
       "4    US Open  ...                        0.020000\n",
       "\n",
       "[5 rows x 72 columns]"
      ]
     },
     "execution_count": 22,
     "metadata": {
      "tags": []
     },
     "output_type": "execute_result"
    }
   ],
   "source": [
    "tournament_test.head()"
   ]
  },
  {
   "cell_type": "markdown",
   "metadata": {
    "colab_type": "text",
    "id": "Nz8SB7ak07-V"
   },
   "source": [
    "## Standardize"
   ]
  },
  {
   "cell_type": "code",
   "execution_count": 0,
   "metadata": {
    "colab": {},
    "colab_type": "code",
    "id": "U1-IwZx40cXo"
   },
   "outputs": [],
   "source": [
    "tournament_test_selected_columns = tournament_test[selected_columns]"
   ]
  },
  {
   "cell_type": "code",
   "execution_count": 0,
   "metadata": {
    "colab": {},
    "colab_type": "code",
    "id": "12KjuUrX1B-K"
   },
   "outputs": [],
   "source": [
    "tournament_test_selected_columns = scaler.transform(tournament_test_selected_columns)"
   ]
  },
  {
   "cell_type": "code",
   "execution_count": 0,
   "metadata": {
    "colab": {},
    "colab_type": "code",
    "id": "4pqkueAe2DOJ"
   },
   "outputs": [],
   "source": [
    "tournament_test_selected_columns = pca.transform(tournament_test_selected_columns)"
   ]
  },
  {
   "cell_type": "markdown",
   "metadata": {
    "colab_type": "text",
    "id": "Zajsth9c1gY_"
   },
   "source": [
    "## Apply Logistic Regression to data test"
   ]
  },
  {
   "cell_type": "code",
   "execution_count": 0,
   "metadata": {
    "colab": {},
    "colab_type": "code",
    "id": "Ylyr_zat1XZZ"
   },
   "outputs": [],
   "source": [
    "predictions_test = logisticRegr.predict(tournament_test_selected_columns)\n",
    "predictions_test_probas = logisticRegr.predict_proba(tournament_test_selected_columns)"
   ]
  },
  {
   "cell_type": "code",
   "execution_count": 0,
   "metadata": {
    "colab": {
     "base_uri": "https://localhost:8080/",
     "height": 119
    },
    "colab_type": "code",
    "id": "oy00wx9v1zUT",
    "outputId": "d92e7038-230d-4cfb-e80f-222fad3edaac"
   },
   "outputs": [
    {
     "data": {
      "text/plain": [
       "array([0, 0, 0, 0, 0, 0, 0, 1, 0, 0, 0, 0, 0, 0, 0, 0, 0, 0, 0, 0, 0, 0,\n",
       "       0, 0, 0, 0, 0, 0, 0, 0, 0, 0, 0, 0, 0, 1, 0, 0, 0, 0, 0, 0, 0, 0,\n",
       "       0, 1, 0, 1, 0, 0, 0, 0, 0, 0, 0, 0, 0, 0, 0, 0, 0, 0, 0, 0, 0, 0,\n",
       "       0, 0, 0, 0, 0, 0, 0, 0, 0, 0, 0, 0, 0, 0, 0, 0, 0, 0, 0, 0, 0, 0,\n",
       "       0, 0, 0, 0, 1, 0, 0, 0, 0, 0, 0, 0, 0, 0, 0, 0, 0, 0, 0, 0, 0, 0,\n",
       "       0, 0, 0, 0, 0, 0, 0, 0, 1, 1])"
      ]
     },
     "execution_count": 39,
     "metadata": {
      "tags": []
     },
     "output_type": "execute_result"
    }
   ],
   "source": [
    "predictions_test"
   ]
  },
  {
   "cell_type": "code",
   "execution_count": 0,
   "metadata": {
    "colab": {},
    "colab_type": "code",
    "id": "RsI4Fz1r3tL6"
   },
   "outputs": [],
   "source": [
    "proba_0_wins = [predictions_test_probas[i,0] for i in range(np.shape(predictions_test_probas)[0])]\n",
    "proba_1_wins = [predictions_test_probas[i,1] for i in range(np.shape(predictions_test_probas)[0])]"
   ]
  },
  {
   "cell_type": "code",
   "execution_count": 0,
   "metadata": {
    "colab": {
     "base_uri": "https://localhost:8080/",
     "height": 34
    },
    "colab_type": "code",
    "id": "0DAYXR8B5gTg",
    "outputId": "027e9df0-307c-4cc0-88fc-a8f301ee0b65"
   },
   "outputs": [
    {
     "data": {
      "text/plain": [
       "120"
      ]
     },
     "execution_count": 74,
     "metadata": {
      "tags": []
     },
     "output_type": "execute_result"
    }
   ],
   "source": [
    "len(proba_1_wins)"
   ]
  },
  {
   "cell_type": "code",
   "execution_count": 0,
   "metadata": {
    "colab": {},
    "colab_type": "code",
    "id": "chN5wZnm2IBw"
   },
   "outputs": [],
   "source": [
    "tournament_test['outcome']=predictions_test\n",
    "tournament_test['proba_0_wins'] = proba_0_wins\n",
    "tournament_test['proba_1_wins'] = proba_1_wins"
   ]
  },
  {
   "cell_type": "code",
   "execution_count": 0,
   "metadata": {
    "colab": {
     "base_uri": "https://localhost:8080/",
     "height": 309
    },
    "colab_type": "code",
    "id": "liIqbWNj2RY4",
    "outputId": "dc1bc9c7-f783-4d8c-b6f9-21ce8dc4877b"
   },
   "outputs": [
    {
     "data": {
      "text/html": [
       "<div>\n",
       "<style scoped>\n",
       "    .dataframe tbody tr th:only-of-type {\n",
       "        vertical-align: middle;\n",
       "    }\n",
       "\n",
       "    .dataframe tbody tr th {\n",
       "        vertical-align: top;\n",
       "    }\n",
       "\n",
       "    .dataframe thead th {\n",
       "        text-align: right;\n",
       "    }\n",
       "</style>\n",
       "<table border=\"1\" class=\"dataframe\">\n",
       "  <thead>\n",
       "    <tr style=\"text-align: right;\">\n",
       "      <th></th>\n",
       "      <th>Tournament</th>\n",
       "      <th>Date</th>\n",
       "      <th>Surface</th>\n",
       "      <th>Round</th>\n",
       "      <th>player_0</th>\n",
       "      <th>player_0_rank</th>\n",
       "      <th>player_0_odd</th>\n",
       "      <th>player_1</th>\n",
       "      <th>player_1_rank</th>\n",
       "      <th>player_1_odd</th>\n",
       "      <th>outcome</th>\n",
       "      <th>player_0_match_win_percent</th>\n",
       "      <th>player_1_match_win_percent</th>\n",
       "      <th>player_0_games_win_percent</th>\n",
       "      <th>player_1_games_win_percent</th>\n",
       "      <th>player_0_5_set_match_win_percent</th>\n",
       "      <th>player_1_5_set_match_win_percent</th>\n",
       "      <th>player_0_close_sets_percent</th>\n",
       "      <th>player_1_close_sets_percent</th>\n",
       "      <th>player_0_match_win_percent_hard</th>\n",
       "      <th>player_1_match_win_percent_hard</th>\n",
       "      <th>player_0_games_win_percent_hard</th>\n",
       "      <th>player_1_games_win_percent_hard</th>\n",
       "      <th>player_0_5_set_match_win_percent_hard</th>\n",
       "      <th>player_1_5_set_match_win_percent_hard</th>\n",
       "      <th>player_0_close_sets_percent_hard</th>\n",
       "      <th>player_1_close_sets_percent_hard</th>\n",
       "      <th>player_0_match_win_percent_52</th>\n",
       "      <th>player_1_match_win_percent_52</th>\n",
       "      <th>player_0_games_win_percent_52</th>\n",
       "      <th>player_1_games_win_percent_52</th>\n",
       "      <th>player_0_5_set_match_win_percent_52</th>\n",
       "      <th>player_1_5_set_match_win_percent_52</th>\n",
       "      <th>player_0_close_sets_percent_52</th>\n",
       "      <th>player_1_close_sets_percent_52</th>\n",
       "      <th>player_0_match_win_percent_hard_60</th>\n",
       "      <th>player_1_match_win_percent_hard_60</th>\n",
       "      <th>player_0_games_win_percent_hard_60</th>\n",
       "      <th>player_1_games_win_percent_hard_60</th>\n",
       "      <th>player_0_5_set_match_win_percent_hard_60</th>\n",
       "      <th>player_1_5_set_match_win_percent_hard_60</th>\n",
       "      <th>player_0_close_sets_percent_hard_60</th>\n",
       "      <th>player_1_close_sets_percent_hard_60</th>\n",
       "      <th>player_0_match_win_percent_hh</th>\n",
       "      <th>player_1_match_win_percent_hh</th>\n",
       "      <th>player_0_games_win_percent_hh</th>\n",
       "      <th>player_1_games_win_percent_hh</th>\n",
       "      <th>player_0_match_win_percent_hard_hh</th>\n",
       "      <th>player_1_match_win_percent_hard_hh</th>\n",
       "      <th>player_0_games_win_percent_hard_hh</th>\n",
       "      <th>player_1_games_win_percent_hard_hh</th>\n",
       "      <th>diff_rank</th>\n",
       "      <th>diff_match_win_percent</th>\n",
       "      <th>diff_games_win_percent</th>\n",
       "      <th>diff_5_set_match_win_percent</th>\n",
       "      <th>diff_close_sets_percent</th>\n",
       "      <th>diff_match_win_percent_hard</th>\n",
       "      <th>diff_games_win_percent_hard</th>\n",
       "      <th>diff_5_set_match_win_percent_hard</th>\n",
       "      <th>diff_close_sets_percent_hard</th>\n",
       "      <th>diff_match_win_percent_52</th>\n",
       "      <th>diff_games_win_percent_52</th>\n",
       "      <th>diff_5_set_match_win_percent_52</th>\n",
       "      <th>diff_close_sets_percent_52</th>\n",
       "      <th>diff_match_win_percent_hard_60</th>\n",
       "      <th>diff_games_win_percent_hard_60</th>\n",
       "      <th>diff_5_set_match_win_percent_hard_60</th>\n",
       "      <th>diff_close_sets_percent_hard_60</th>\n",
       "      <th>diff_match_win_percent_hh</th>\n",
       "      <th>diff_games_win_percent_hh</th>\n",
       "      <th>diff_match_win_percent_hard_hh</th>\n",
       "      <th>diff_games_win_percent_hard_hh</th>\n",
       "      <th>outcome_0_proba</th>\n",
       "      <th>outcome_1_proba</th>\n",
       "      <th>proba_0_wins</th>\n",
       "      <th>proba_1_wins</th>\n",
       "    </tr>\n",
       "  </thead>\n",
       "  <tbody>\n",
       "    <tr>\n",
       "      <th>0</th>\n",
       "      <td>US Open</td>\n",
       "      <td>2020</td>\n",
       "      <td>Hard</td>\n",
       "      <td>4th Round</td>\n",
       "      <td>Djokovic N.</td>\n",
       "      <td>1</td>\n",
       "      <td>NaN</td>\n",
       "      <td>Shapovalov D.</td>\n",
       "      <td>16</td>\n",
       "      <td>NaN</td>\n",
       "      <td>0</td>\n",
       "      <td>0.836269</td>\n",
       "      <td>0.516949</td>\n",
       "      <td>0.593497</td>\n",
       "      <td>0.503990</td>\n",
       "      <td>0.875817</td>\n",
       "      <td>0.526316</td>\n",
       "      <td>0.618762</td>\n",
       "      <td>0.517857</td>\n",
       "      <td>0.845395</td>\n",
       "      <td>0.569767</td>\n",
       "      <td>0.598515</td>\n",
       "      <td>0.516674</td>\n",
       "      <td>0.880795</td>\n",
       "      <td>0.666667</td>\n",
       "      <td>0.627469</td>\n",
       "      <td>0.539007</td>\n",
       "      <td>0.861538</td>\n",
       "      <td>0.509434</td>\n",
       "      <td>0.607377</td>\n",
       "      <td>0.505335</td>\n",
       "      <td>0.961538</td>\n",
       "      <td>0.571429</td>\n",
       "      <td>0.619433</td>\n",
       "      <td>0.485549</td>\n",
       "      <td>0.862745</td>\n",
       "      <td>0.596154</td>\n",
       "      <td>0.602987</td>\n",
       "      <td>0.523019</td>\n",
       "      <td>1.000000</td>\n",
       "      <td>0.714286</td>\n",
       "      <td>0.617486</td>\n",
       "      <td>0.529412</td>\n",
       "      <td>1.0</td>\n",
       "      <td>0.0</td>\n",
       "      <td>0.720000</td>\n",
       "      <td>0.000000</td>\n",
       "      <td>1.0</td>\n",
       "      <td>0.0</td>\n",
       "      <td>0.720000</td>\n",
       "      <td>0.000000</td>\n",
       "      <td>-15</td>\n",
       "      <td>0.319320</td>\n",
       "      <td>0.089507</td>\n",
       "      <td>0.349501</td>\n",
       "      <td>0.100905</td>\n",
       "      <td>0.275627</td>\n",
       "      <td>0.081840</td>\n",
       "      <td>0.191542</td>\n",
       "      <td>0.088462</td>\n",
       "      <td>0.352104</td>\n",
       "      <td>0.102041</td>\n",
       "      <td>0.390110</td>\n",
       "      <td>0.133884</td>\n",
       "      <td>0.266591</td>\n",
       "      <td>0.079969</td>\n",
       "      <td>0.285714</td>\n",
       "      <td>0.088075</td>\n",
       "      <td>1.0</td>\n",
       "      <td>0.720000</td>\n",
       "      <td>1.0</td>\n",
       "      <td>0.720000</td>\n",
       "      <td>0.833266</td>\n",
       "      <td>0.166734</td>\n",
       "      <td>0.833266</td>\n",
       "      <td>0.166734</td>\n",
       "    </tr>\n",
       "    <tr>\n",
       "      <th>1</th>\n",
       "      <td>US Open</td>\n",
       "      <td>2020</td>\n",
       "      <td>Hard</td>\n",
       "      <td>4th Round</td>\n",
       "      <td>Nadal R.</td>\n",
       "      <td>2</td>\n",
       "      <td>NaN</td>\n",
       "      <td>Khachanov K.</td>\n",
       "      <td>15</td>\n",
       "      <td>NaN</td>\n",
       "      <td>0</td>\n",
       "      <td>0.848780</td>\n",
       "      <td>0.560000</td>\n",
       "      <td>0.601936</td>\n",
       "      <td>0.516809</td>\n",
       "      <td>0.891156</td>\n",
       "      <td>0.642857</td>\n",
       "      <td>0.618892</td>\n",
       "      <td>0.545455</td>\n",
       "      <td>0.792233</td>\n",
       "      <td>0.531250</td>\n",
       "      <td>0.577363</td>\n",
       "      <td>0.517157</td>\n",
       "      <td>0.858209</td>\n",
       "      <td>0.538462</td>\n",
       "      <td>0.601213</td>\n",
       "      <td>0.535032</td>\n",
       "      <td>0.882353</td>\n",
       "      <td>0.614035</td>\n",
       "      <td>0.644975</td>\n",
       "      <td>0.536184</td>\n",
       "      <td>0.916667</td>\n",
       "      <td>0.714286</td>\n",
       "      <td>0.597015</td>\n",
       "      <td>0.567839</td>\n",
       "      <td>0.933333</td>\n",
       "      <td>0.641509</td>\n",
       "      <td>0.611602</td>\n",
       "      <td>0.543284</td>\n",
       "      <td>0.933333</td>\n",
       "      <td>0.625000</td>\n",
       "      <td>0.633333</td>\n",
       "      <td>0.582857</td>\n",
       "      <td>0.0</td>\n",
       "      <td>1.0</td>\n",
       "      <td>0.000000</td>\n",
       "      <td>0.632653</td>\n",
       "      <td>0.0</td>\n",
       "      <td>1.0</td>\n",
       "      <td>0.000000</td>\n",
       "      <td>0.632653</td>\n",
       "      <td>-13</td>\n",
       "      <td>0.288780</td>\n",
       "      <td>0.085127</td>\n",
       "      <td>0.248299</td>\n",
       "      <td>0.073437</td>\n",
       "      <td>0.260983</td>\n",
       "      <td>0.060206</td>\n",
       "      <td>0.203474</td>\n",
       "      <td>0.066182</td>\n",
       "      <td>0.268318</td>\n",
       "      <td>0.108791</td>\n",
       "      <td>0.202381</td>\n",
       "      <td>0.029176</td>\n",
       "      <td>0.291824</td>\n",
       "      <td>0.068318</td>\n",
       "      <td>0.308333</td>\n",
       "      <td>0.050476</td>\n",
       "      <td>-1.0</td>\n",
       "      <td>-0.632653</td>\n",
       "      <td>-1.0</td>\n",
       "      <td>-0.632653</td>\n",
       "      <td>0.779126</td>\n",
       "      <td>0.220874</td>\n",
       "      <td>0.779126</td>\n",
       "      <td>0.220874</td>\n",
       "    </tr>\n",
       "    <tr>\n",
       "      <th>2</th>\n",
       "      <td>US Open</td>\n",
       "      <td>2020</td>\n",
       "      <td>Hard</td>\n",
       "      <td>4th Round</td>\n",
       "      <td>Thiem D.</td>\n",
       "      <td>3</td>\n",
       "      <td>NaN</td>\n",
       "      <td>Rublev A.</td>\n",
       "      <td>14</td>\n",
       "      <td>NaN</td>\n",
       "      <td>0</td>\n",
       "      <td>0.633758</td>\n",
       "      <td>0.488189</td>\n",
       "      <td>0.528693</td>\n",
       "      <td>0.494747</td>\n",
       "      <td>0.730159</td>\n",
       "      <td>0.550000</td>\n",
       "      <td>0.556180</td>\n",
       "      <td>0.482185</td>\n",
       "      <td>0.556291</td>\n",
       "      <td>0.477778</td>\n",
       "      <td>0.514842</td>\n",
       "      <td>0.492027</td>\n",
       "      <td>0.741935</td>\n",
       "      <td>0.600000</td>\n",
       "      <td>0.545631</td>\n",
       "      <td>0.450000</td>\n",
       "      <td>0.688525</td>\n",
       "      <td>0.560976</td>\n",
       "      <td>0.544109</td>\n",
       "      <td>0.511811</td>\n",
       "      <td>0.866667</td>\n",
       "      <td>0.600000</td>\n",
       "      <td>0.600939</td>\n",
       "      <td>0.496241</td>\n",
       "      <td>0.611111</td>\n",
       "      <td>0.512821</td>\n",
       "      <td>0.534156</td>\n",
       "      <td>0.506997</td>\n",
       "      <td>0.833333</td>\n",
       "      <td>0.500000</td>\n",
       "      <td>0.606061</td>\n",
       "      <td>0.480000</td>\n",
       "      <td>0.3</td>\n",
       "      <td>0.5</td>\n",
       "      <td>0.400000</td>\n",
       "      <td>0.475000</td>\n",
       "      <td>0.3</td>\n",
       "      <td>0.5</td>\n",
       "      <td>0.400000</td>\n",
       "      <td>0.475000</td>\n",
       "      <td>-11</td>\n",
       "      <td>0.145569</td>\n",
       "      <td>0.033946</td>\n",
       "      <td>0.180159</td>\n",
       "      <td>0.073995</td>\n",
       "      <td>0.078514</td>\n",
       "      <td>0.022814</td>\n",
       "      <td>0.284393</td>\n",
       "      <td>0.095631</td>\n",
       "      <td>0.127549</td>\n",
       "      <td>0.032298</td>\n",
       "      <td>0.266667</td>\n",
       "      <td>0.104698</td>\n",
       "      <td>0.098291</td>\n",
       "      <td>0.027159</td>\n",
       "      <td>0.333333</td>\n",
       "      <td>0.126061</td>\n",
       "      <td>-0.2</td>\n",
       "      <td>-0.075000</td>\n",
       "      <td>-0.2</td>\n",
       "      <td>-0.075000</td>\n",
       "      <td>0.734883</td>\n",
       "      <td>0.265117</td>\n",
       "      <td>0.734883</td>\n",
       "      <td>0.265117</td>\n",
       "    </tr>\n",
       "    <tr>\n",
       "      <th>3</th>\n",
       "      <td>US Open</td>\n",
       "      <td>2020</td>\n",
       "      <td>Hard</td>\n",
       "      <td>4th Round</td>\n",
       "      <td>Federer R.</td>\n",
       "      <td>4</td>\n",
       "      <td>NaN</td>\n",
       "      <td>Schwartzman D.</td>\n",
       "      <td>13</td>\n",
       "      <td>NaN</td>\n",
       "      <td>0</td>\n",
       "      <td>0.855967</td>\n",
       "      <td>0.537190</td>\n",
       "      <td>0.591208</td>\n",
       "      <td>0.516533</td>\n",
       "      <td>0.877676</td>\n",
       "      <td>0.583333</td>\n",
       "      <td>0.637815</td>\n",
       "      <td>0.491484</td>\n",
       "      <td>0.860353</td>\n",
       "      <td>0.563636</td>\n",
       "      <td>0.593505</td>\n",
       "      <td>0.524062</td>\n",
       "      <td>0.884393</td>\n",
       "      <td>0.640000</td>\n",
       "      <td>0.643341</td>\n",
       "      <td>0.507895</td>\n",
       "      <td>0.792453</td>\n",
       "      <td>0.620690</td>\n",
       "      <td>0.566643</td>\n",
       "      <td>0.530303</td>\n",
       "      <td>0.769231</td>\n",
       "      <td>0.727273</td>\n",
       "      <td>0.654054</td>\n",
       "      <td>0.515306</td>\n",
       "      <td>0.820000</td>\n",
       "      <td>0.605263</td>\n",
       "      <td>0.577039</td>\n",
       "      <td>0.539501</td>\n",
       "      <td>0.857143</td>\n",
       "      <td>0.777778</td>\n",
       "      <td>0.646067</td>\n",
       "      <td>0.507576</td>\n",
       "      <td>0.0</td>\n",
       "      <td>0.5</td>\n",
       "      <td>0.470588</td>\n",
       "      <td>0.580645</td>\n",
       "      <td>0.0</td>\n",
       "      <td>0.5</td>\n",
       "      <td>0.470588</td>\n",
       "      <td>0.580645</td>\n",
       "      <td>-9</td>\n",
       "      <td>0.318777</td>\n",
       "      <td>0.074675</td>\n",
       "      <td>0.294343</td>\n",
       "      <td>0.146331</td>\n",
       "      <td>0.296717</td>\n",
       "      <td>0.069442</td>\n",
       "      <td>-0.094545</td>\n",
       "      <td>0.135446</td>\n",
       "      <td>0.171763</td>\n",
       "      <td>0.036340</td>\n",
       "      <td>0.041958</td>\n",
       "      <td>0.138748</td>\n",
       "      <td>0.214737</td>\n",
       "      <td>0.037538</td>\n",
       "      <td>0.079365</td>\n",
       "      <td>0.138492</td>\n",
       "      <td>-0.5</td>\n",
       "      <td>-0.110057</td>\n",
       "      <td>-0.5</td>\n",
       "      <td>-0.110057</td>\n",
       "      <td>0.763016</td>\n",
       "      <td>0.236984</td>\n",
       "      <td>0.763016</td>\n",
       "      <td>0.236984</td>\n",
       "    </tr>\n",
       "    <tr>\n",
       "      <th>4</th>\n",
       "      <td>US Open</td>\n",
       "      <td>2020</td>\n",
       "      <td>Hard</td>\n",
       "      <td>4th Round</td>\n",
       "      <td>Medvedev D.</td>\n",
       "      <td>5</td>\n",
       "      <td>NaN</td>\n",
       "      <td>Bautista Agut R.</td>\n",
       "      <td>12</td>\n",
       "      <td>NaN</td>\n",
       "      <td>0</td>\n",
       "      <td>0.606061</td>\n",
       "      <td>0.672619</td>\n",
       "      <td>0.520866</td>\n",
       "      <td>0.540893</td>\n",
       "      <td>0.529412</td>\n",
       "      <td>0.676471</td>\n",
       "      <td>0.527907</td>\n",
       "      <td>0.583916</td>\n",
       "      <td>0.656566</td>\n",
       "      <td>0.685714</td>\n",
       "      <td>0.528891</td>\n",
       "      <td>0.548220</td>\n",
       "      <td>0.545455</td>\n",
       "      <td>0.647059</td>\n",
       "      <td>0.539185</td>\n",
       "      <td>0.601719</td>\n",
       "      <td>0.666667</td>\n",
       "      <td>0.716981</td>\n",
       "      <td>0.540426</td>\n",
       "      <td>0.540809</td>\n",
       "      <td>0.636364</td>\n",
       "      <td>0.666667</td>\n",
       "      <td>0.532751</td>\n",
       "      <td>0.610169</td>\n",
       "      <td>0.742424</td>\n",
       "      <td>0.714286</td>\n",
       "      <td>0.548428</td>\n",
       "      <td>0.540984</td>\n",
       "      <td>0.666667</td>\n",
       "      <td>0.571429</td>\n",
       "      <td>0.569444</td>\n",
       "      <td>0.600000</td>\n",
       "      <td>1.0</td>\n",
       "      <td>1.0</td>\n",
       "      <td>0.520000</td>\n",
       "      <td>0.500000</td>\n",
       "      <td>1.0</td>\n",
       "      <td>1.0</td>\n",
       "      <td>0.520000</td>\n",
       "      <td>0.500000</td>\n",
       "      <td>-7</td>\n",
       "      <td>-0.066558</td>\n",
       "      <td>-0.020028</td>\n",
       "      <td>-0.147059</td>\n",
       "      <td>-0.056009</td>\n",
       "      <td>-0.029149</td>\n",
       "      <td>-0.019329</td>\n",
       "      <td>0.019608</td>\n",
       "      <td>-0.062534</td>\n",
       "      <td>-0.050314</td>\n",
       "      <td>-0.000384</td>\n",
       "      <td>-0.030303</td>\n",
       "      <td>-0.077418</td>\n",
       "      <td>0.028139</td>\n",
       "      <td>0.007444</td>\n",
       "      <td>0.095238</td>\n",
       "      <td>-0.030556</td>\n",
       "      <td>0.0</td>\n",
       "      <td>0.020000</td>\n",
       "      <td>0.0</td>\n",
       "      <td>0.020000</td>\n",
       "      <td>0.512877</td>\n",
       "      <td>0.487123</td>\n",
       "      <td>0.512877</td>\n",
       "      <td>0.487123</td>\n",
       "    </tr>\n",
       "  </tbody>\n",
       "</table>\n",
       "</div>"
      ],
      "text/plain": [
       "  Tournament  Date Surface  ... outcome_1_proba proba_0_wins  proba_1_wins\n",
       "0    US Open  2020    Hard  ...        0.166734     0.833266      0.166734\n",
       "1    US Open  2020    Hard  ...        0.220874     0.779126      0.220874\n",
       "2    US Open  2020    Hard  ...        0.265117     0.734883      0.265117\n",
       "3    US Open  2020    Hard  ...        0.236984     0.763016      0.236984\n",
       "4    US Open  2020    Hard  ...        0.487123     0.512877      0.487123\n",
       "\n",
       "[5 rows x 76 columns]"
      ]
     },
     "execution_count": 76,
     "metadata": {
      "tags": []
     },
     "output_type": "execute_result"
    }
   ],
   "source": [
    "tournament_test.head()"
   ]
  },
  {
   "cell_type": "markdown",
   "metadata": {
    "colab_type": "text",
    "id": "c2xtsV206trW"
   },
   "source": [
    "## Better Visualization of the outcome"
   ]
  },
  {
   "cell_type": "code",
   "execution_count": 0,
   "metadata": {
    "colab": {},
    "colab_type": "code",
    "id": "wg5txqHH2TVU"
   },
   "outputs": [],
   "source": [
    "columns = ['Round', 'player_0', 'player_1', 'proba_0_wins', 'proba_1_wins', 'outcome', 'player_0_rank', 'player_1_rank']"
   ]
  },
  {
   "cell_type": "code",
   "execution_count": 0,
   "metadata": {
    "colab": {},
    "colab_type": "code",
    "id": "O3aCIuMZ8HqL"
   },
   "outputs": [],
   "source": [
    "good_results = tournament_test[columns]"
   ]
  },
  {
   "cell_type": "code",
   "execution_count": 0,
   "metadata": {
    "colab": {
     "base_uri": "https://localhost:8080/",
     "height": 419
    },
    "colab_type": "code",
    "id": "u5M6i0R_8MC8",
    "outputId": "a82c79e3-03dd-4363-92a1-fe35b2c6ce37"
   },
   "outputs": [
    {
     "data": {
      "text/html": [
       "<div>\n",
       "<style scoped>\n",
       "    .dataframe tbody tr th:only-of-type {\n",
       "        vertical-align: middle;\n",
       "    }\n",
       "\n",
       "    .dataframe tbody tr th {\n",
       "        vertical-align: top;\n",
       "    }\n",
       "\n",
       "    .dataframe thead th {\n",
       "        text-align: right;\n",
       "    }\n",
       "</style>\n",
       "<table border=\"1\" class=\"dataframe\">\n",
       "  <thead>\n",
       "    <tr style=\"text-align: right;\">\n",
       "      <th></th>\n",
       "      <th>Round</th>\n",
       "      <th>player_0</th>\n",
       "      <th>player_1</th>\n",
       "      <th>proba_0_wins</th>\n",
       "      <th>proba_1_wins</th>\n",
       "      <th>outcome</th>\n",
       "      <th>player_0_rank</th>\n",
       "      <th>player_1_rank</th>\n",
       "    </tr>\n",
       "  </thead>\n",
       "  <tbody>\n",
       "    <tr>\n",
       "      <th>0</th>\n",
       "      <td>4th Round</td>\n",
       "      <td>Djokovic N.</td>\n",
       "      <td>Shapovalov D.</td>\n",
       "      <td>0.833266</td>\n",
       "      <td>0.166734</td>\n",
       "      <td>0</td>\n",
       "      <td>1</td>\n",
       "      <td>16</td>\n",
       "    </tr>\n",
       "    <tr>\n",
       "      <th>1</th>\n",
       "      <td>4th Round</td>\n",
       "      <td>Nadal R.</td>\n",
       "      <td>Khachanov K.</td>\n",
       "      <td>0.779126</td>\n",
       "      <td>0.220874</td>\n",
       "      <td>0</td>\n",
       "      <td>2</td>\n",
       "      <td>15</td>\n",
       "    </tr>\n",
       "    <tr>\n",
       "      <th>2</th>\n",
       "      <td>4th Round</td>\n",
       "      <td>Thiem D.</td>\n",
       "      <td>Rublev A.</td>\n",
       "      <td>0.734883</td>\n",
       "      <td>0.265117</td>\n",
       "      <td>0</td>\n",
       "      <td>3</td>\n",
       "      <td>14</td>\n",
       "    </tr>\n",
       "    <tr>\n",
       "      <th>3</th>\n",
       "      <td>4th Round</td>\n",
       "      <td>Federer R.</td>\n",
       "      <td>Schwartzman D.</td>\n",
       "      <td>0.763016</td>\n",
       "      <td>0.236984</td>\n",
       "      <td>0</td>\n",
       "      <td>4</td>\n",
       "      <td>13</td>\n",
       "    </tr>\n",
       "    <tr>\n",
       "      <th>4</th>\n",
       "      <td>4th Round</td>\n",
       "      <td>Medvedev D.</td>\n",
       "      <td>Bautista Agut R.</td>\n",
       "      <td>0.512877</td>\n",
       "      <td>0.487123</td>\n",
       "      <td>0</td>\n",
       "      <td>5</td>\n",
       "      <td>12</td>\n",
       "    </tr>\n",
       "    <tr>\n",
       "      <th>...</th>\n",
       "      <td>...</td>\n",
       "      <td>...</td>\n",
       "      <td>...</td>\n",
       "      <td>...</td>\n",
       "      <td>...</td>\n",
       "      <td>...</td>\n",
       "      <td>...</td>\n",
       "      <td>...</td>\n",
       "    </tr>\n",
       "    <tr>\n",
       "      <th>115</th>\n",
       "      <td>Final</td>\n",
       "      <td>Goffin D.</td>\n",
       "      <td>Bautista Agut R.</td>\n",
       "      <td>0.510749</td>\n",
       "      <td>0.489251</td>\n",
       "      <td>0</td>\n",
       "      <td>10</td>\n",
       "      <td>12</td>\n",
       "    </tr>\n",
       "    <tr>\n",
       "      <th>116</th>\n",
       "      <td>Final</td>\n",
       "      <td>Thiem D.</td>\n",
       "      <td>Bautista Agut R.</td>\n",
       "      <td>0.552175</td>\n",
       "      <td>0.447825</td>\n",
       "      <td>0</td>\n",
       "      <td>3</td>\n",
       "      <td>12</td>\n",
       "    </tr>\n",
       "    <tr>\n",
       "      <th>117</th>\n",
       "      <td>Final</td>\n",
       "      <td>Bautista Agut R.</td>\n",
       "      <td>Rublev A.</td>\n",
       "      <td>0.731081</td>\n",
       "      <td>0.268919</td>\n",
       "      <td>0</td>\n",
       "      <td>12</td>\n",
       "      <td>14</td>\n",
       "    </tr>\n",
       "    <tr>\n",
       "      <th>118</th>\n",
       "      <td>Final</td>\n",
       "      <td>Tsitsipas S.</td>\n",
       "      <td>Bautista Agut R.</td>\n",
       "      <td>0.489934</td>\n",
       "      <td>0.510066</td>\n",
       "      <td>1</td>\n",
       "      <td>6</td>\n",
       "      <td>12</td>\n",
       "    </tr>\n",
       "    <tr>\n",
       "      <th>119</th>\n",
       "      <td>Final</td>\n",
       "      <td>Fognini F.</td>\n",
       "      <td>Bautista Agut R.</td>\n",
       "      <td>0.343087</td>\n",
       "      <td>0.656913</td>\n",
       "      <td>1</td>\n",
       "      <td>11</td>\n",
       "      <td>12</td>\n",
       "    </tr>\n",
       "  </tbody>\n",
       "</table>\n",
       "<p>120 rows × 8 columns</p>\n",
       "</div>"
      ],
      "text/plain": [
       "         Round          player_0  ... player_0_rank  player_1_rank\n",
       "0    4th Round       Djokovic N.  ...             1             16\n",
       "1    4th Round          Nadal R.  ...             2             15\n",
       "2    4th Round          Thiem D.  ...             3             14\n",
       "3    4th Round        Federer R.  ...             4             13\n",
       "4    4th Round       Medvedev D.  ...             5             12\n",
       "..         ...               ...  ...           ...            ...\n",
       "115      Final         Goffin D.  ...            10             12\n",
       "116      Final          Thiem D.  ...             3             12\n",
       "117      Final  Bautista Agut R.  ...            12             14\n",
       "118      Final      Tsitsipas S.  ...             6             12\n",
       "119      Final        Fognini F.  ...            11             12\n",
       "\n",
       "[120 rows x 8 columns]"
      ]
     },
     "execution_count": 87,
     "metadata": {
      "tags": []
     },
     "output_type": "execute_result"
    }
   ],
   "source": [
    "good_results"
   ]
  },
  {
   "cell_type": "code",
   "execution_count": 0,
   "metadata": {
    "colab": {
     "base_uri": "https://localhost:8080/",
     "height": 266
    },
    "colab_type": "code",
    "id": "TwyP6GuE-Pxw",
    "outputId": "4491d01f-94cf-4eca-920f-8cf145c96403"
   },
   "outputs": [
    {
     "data": {
      "text/html": [
       "<div>\n",
       "<style scoped>\n",
       "    .dataframe tbody tr th:only-of-type {\n",
       "        vertical-align: middle;\n",
       "    }\n",
       "\n",
       "    .dataframe tbody tr th {\n",
       "        vertical-align: top;\n",
       "    }\n",
       "\n",
       "    .dataframe thead th {\n",
       "        text-align: right;\n",
       "    }\n",
       "</style>\n",
       "<table border=\"1\" class=\"dataframe\">\n",
       "  <thead>\n",
       "    <tr style=\"text-align: right;\">\n",
       "      <th></th>\n",
       "      <th>Round</th>\n",
       "      <th>player_0</th>\n",
       "      <th>player_1</th>\n",
       "      <th>proba_0_wins</th>\n",
       "      <th>proba_1_wins</th>\n",
       "      <th>outcome</th>\n",
       "      <th>player_0_rank</th>\n",
       "      <th>player_1_rank</th>\n",
       "    </tr>\n",
       "  </thead>\n",
       "  <tbody>\n",
       "    <tr>\n",
       "      <th>7</th>\n",
       "      <td>4th Round</td>\n",
       "      <td>Berrettini M.</td>\n",
       "      <td>Monfils G.</td>\n",
       "      <td>0.491612</td>\n",
       "      <td>0.508388</td>\n",
       "      <td>1</td>\n",
       "      <td>8</td>\n",
       "      <td>9</td>\n",
       "    </tr>\n",
       "    <tr>\n",
       "      <th>35</th>\n",
       "      <td>Semifinals</td>\n",
       "      <td>Berrettini M.</td>\n",
       "      <td>Bautista Agut R.</td>\n",
       "      <td>0.496152</td>\n",
       "      <td>0.503848</td>\n",
       "      <td>1</td>\n",
       "      <td>8</td>\n",
       "      <td>12</td>\n",
       "    </tr>\n",
       "    <tr>\n",
       "      <th>45</th>\n",
       "      <td>Semifinals</td>\n",
       "      <td>Rublev A.</td>\n",
       "      <td>Khachanov K.</td>\n",
       "      <td>0.467931</td>\n",
       "      <td>0.532069</td>\n",
       "      <td>1</td>\n",
       "      <td>14</td>\n",
       "      <td>15</td>\n",
       "    </tr>\n",
       "    <tr>\n",
       "      <th>47</th>\n",
       "      <td>Semifinals</td>\n",
       "      <td>Fognini F.</td>\n",
       "      <td>Khachanov K.</td>\n",
       "      <td>0.479641</td>\n",
       "      <td>0.520359</td>\n",
       "      <td>1</td>\n",
       "      <td>11</td>\n",
       "      <td>15</td>\n",
       "    </tr>\n",
       "    <tr>\n",
       "      <th>92</th>\n",
       "      <td>Final</td>\n",
       "      <td>Thiem D.</td>\n",
       "      <td>Federer R.</td>\n",
       "      <td>0.409115</td>\n",
       "      <td>0.590885</td>\n",
       "      <td>1</td>\n",
       "      <td>3</td>\n",
       "      <td>4</td>\n",
       "    </tr>\n",
       "    <tr>\n",
       "      <th>118</th>\n",
       "      <td>Final</td>\n",
       "      <td>Tsitsipas S.</td>\n",
       "      <td>Bautista Agut R.</td>\n",
       "      <td>0.489934</td>\n",
       "      <td>0.510066</td>\n",
       "      <td>1</td>\n",
       "      <td>6</td>\n",
       "      <td>12</td>\n",
       "    </tr>\n",
       "    <tr>\n",
       "      <th>119</th>\n",
       "      <td>Final</td>\n",
       "      <td>Fognini F.</td>\n",
       "      <td>Bautista Agut R.</td>\n",
       "      <td>0.343087</td>\n",
       "      <td>0.656913</td>\n",
       "      <td>1</td>\n",
       "      <td>11</td>\n",
       "      <td>12</td>\n",
       "    </tr>\n",
       "  </tbody>\n",
       "</table>\n",
       "</div>"
      ],
      "text/plain": [
       "          Round       player_0  ... player_0_rank  player_1_rank\n",
       "7     4th Round  Berrettini M.  ...             8              9\n",
       "35   Semifinals  Berrettini M.  ...             8             12\n",
       "45   Semifinals      Rublev A.  ...            14             15\n",
       "47   Semifinals     Fognini F.  ...            11             15\n",
       "92        Final       Thiem D.  ...             3              4\n",
       "118       Final   Tsitsipas S.  ...             6             12\n",
       "119       Final     Fognini F.  ...            11             12\n",
       "\n",
       "[7 rows x 8 columns]"
      ]
     },
     "execution_count": 89,
     "metadata": {
      "tags": []
     },
     "output_type": "execute_result"
    }
   ],
   "source": [
    "good_results[good_results['outcome']==1]"
   ]
  },
  {
   "cell_type": "code",
   "execution_count": 0,
   "metadata": {
    "colab": {},
    "colab_type": "code",
    "id": "kLLyJWUp-cSG"
   },
   "outputs": [],
   "source": [
    "good_results.to_csv(r'/content/drive/My Drive/242Project/Data/Tournament_Results.csv', index = False)"
   ]
  }
 ],
 "metadata": {
  "colab": {
   "collapsed_sections": [],
   "name": "242project.py",
   "provenance": []
  },
  "kernelspec": {
   "display_name": "Python 3",
   "language": "python",
   "name": "python3"
  },
  "language_info": {
   "codemirror_mode": {
    "name": "ipython",
    "version": 3
   },
   "file_extension": ".py",
   "mimetype": "text/x-python",
   "name": "python",
   "nbconvert_exporter": "python",
   "pygments_lexer": "ipython3",
   "version": "3.7.4"
  }
 },
 "nbformat": 4,
 "nbformat_minor": 1
}
